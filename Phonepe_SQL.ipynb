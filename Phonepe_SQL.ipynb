{
 "cells": [
  {
   "cell_type": "code",
   "execution_count": 2,
   "id": "f61d4e33-ea2b-4e89-b360-cb16b30062aa",
   "metadata": {},
   "outputs": [],
   "source": [
    "from PIL import Image\n",
    "import os\n",
    "import json\n",
    "import pandas as pd\n",
    "import mysql.connector\n",
    "\n",
    "\n",
    "\n",
    "# reading the data from csv files\n",
    "df_aggregated_transaction=pd.read_csv('aggregated_transaction.csv')\n",
    "df_aggregated_user=pd.read_csv('aggregated_user.csv')\n",
    "df_map_transaction=pd.read_csv('map_transaction.csv')\n",
    "df_map_user=pd.read_csv('map_user.csv')\n",
    "df_top_transaction=pd.read_csv('top_transaction.csv')\n",
    "df_top_user=pd.read_csv('top_user.csv')\n",
    "\n",
    "#Mysql Connection\n",
    "connection=mysql.connector.connect(host=\"localhost\",user=\"root\",password=\"Seswa@123\",database=\"phonepe\")\n",
    "mycursor=connection.cursor()\n",
    "\n",
    "\n",
    "def insert_df_to_mysql(df, table_name, connection):\n",
    "    cursor = connection.cursor()\n",
    "    \n",
    "    # Get column names from DataFrame\n",
    "    columns = \", \".join(df.columns)\n",
    "    \n",
    "    # Prepare placeholders for values\n",
    "    placeholders = \", \".join([\"%s\"] * len(df.columns))\n",
    "    \n",
    "    # Prepare SQL query\n",
    "    sql = f\"INSERT INTO {table_name} ({columns}) VALUES ({placeholders})\"\n",
    "    \n",
    "    # Iterate over DataFrame rows and execute insert query\n",
    "    for _, row in df.iterrows():\n",
    "        cursor.execute(sql, tuple(row))\n",
    "    \n",
    "    # Commit changes to database\n",
    "    connection.commit()\n",
    "    \n",
    "\n",
    "\n",
    "# Insert data from DataFrames to MySQL tables\n",
    "insert_df_to_mysql(df_aggregated_transaction, 'aggregated_transaction', connection)\n",
    "insert_df_to_mysql(df_aggregated_user, 'aggregated_user', connection)\n",
    "insert_df_to_mysql(df_map_transaction, 'map_transaction', connection)\n",
    "insert_df_to_mysql(df_map_user, 'map_user', connection)\n",
    "insert_df_to_mysql(df_top_transaction, 'top_transaction', connection)\n",
    "insert_df_to_mysql(df_top_user, 'top_user', connection)\n"
   ]
  },
  {
   "cell_type": "code",
   "execution_count": null,
   "id": "4a033ae6-27a0-4de2-96a8-50f0d5b9498f",
   "metadata": {},
   "outputs": [],
   "source": []
  }
 ],
 "metadata": {
  "kernelspec": {
   "display_name": "Python 3 (ipykernel)",
   "language": "python",
   "name": "python3"
  },
  "language_info": {
   "codemirror_mode": {
    "name": "ipython",
    "version": 3
   },
   "file_extension": ".py",
   "mimetype": "text/x-python",
   "name": "python",
   "nbconvert_exporter": "python",
   "pygments_lexer": "ipython3",
   "version": "3.12.2"
  }
 },
 "nbformat": 4,
 "nbformat_minor": 5
}
