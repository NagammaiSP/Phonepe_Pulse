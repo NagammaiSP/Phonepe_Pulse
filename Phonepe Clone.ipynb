{
 "cells": [
  {
   "cell_type": "code",
   "execution_count": 7,
   "id": "45b6deb3-3e1b-4550-a1fb-0069af0c3e66",
   "metadata": {},
   "outputs": [
    {
     "name": "stdout",
     "output_type": "stream",
     "text": [
      "Repository cloned successfully!\n"
     ]
    }
   ],
   "source": [
    "import os\n",
    "import git\n",
    "\n",
    "# Function to clone the GitHub repository\n",
    "def clone_github_repo(repo_url, clone_directory):\n",
    "    try:\n",
    "        git.Repo.clone_from(repo_url, clone_directory)\n",
    "        print(\"Repository cloned successfully!\")\n",
    "    except Exception as e:\n",
    "        print(f\"Failed to clone repository: {e}\")\n",
    "\n",
    "def main():\n",
    "    # GitHub repository URL\n",
    "    repo_url = \"https://github.com/PhonePe/pulse.git\"\n",
    "    \n",
    "    # Directory where you want to clone the repository\n",
    "    clone_directory = r\"D:\\My files\\Nagammai\\Guvi\\MDE86\\code\\clone\"\n",
    "    \n",
    "    # Clone the repository\n",
    "    clone_github_repo(repo_url, clone_directory)\n",
    "\n",
    "if __name__ == \"__main__\":\n",
    "    main()\n"
   ]
  },
  {
   "cell_type": "code",
   "execution_count": null,
   "id": "e95f4761-28d0-4b5c-99e0-b37fd107189f",
   "metadata": {},
   "outputs": [],
   "source": []
  }
 ],
 "metadata": {
  "kernelspec": {
   "display_name": "Python 3 (ipykernel)",
   "language": "python",
   "name": "python3"
  },
  "language_info": {
   "codemirror_mode": {
    "name": "ipython",
    "version": 3
   },
   "file_extension": ".py",
   "mimetype": "text/x-python",
   "name": "python",
   "nbconvert_exporter": "python",
   "pygments_lexer": "ipython3",
   "version": "3.12.2"
  }
 },
 "nbformat": 4,
 "nbformat_minor": 5
}
